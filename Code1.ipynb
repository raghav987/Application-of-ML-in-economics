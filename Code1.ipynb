{
  "nbformat": 4,
  "nbformat_minor": 0,
  "metadata": {
    "colab": {
      "provenance": [],
      "include_colab_link": true
    },
    "kernelspec": {
      "name": "python3",
      "display_name": "Python 3"
    },
    "language_info": {
      "name": "python"
    }
  },
  "cells": [
    {
      "cell_type": "markdown",
      "metadata": {
        "id": "view-in-github",
        "colab_type": "text"
      },
      "source": [
        "<a href=\"https://colab.research.google.com/github/raghav987/Application-of-ML-in-economics/blob/master/Code1.ipynb\" target=\"_parent\"><img src=\"https://colab.research.google.com/assets/colab-badge.svg\" alt=\"Open In Colab\"/></a>"
      ]
    },
    {
      "cell_type": "code",
      "execution_count": null,
      "metadata": {
        "id": "uRl46gzabdsK"
      },
      "outputs": [],
      "source": [
        "import pandas as pd \n",
        "import numpy as np\n",
        "import matplotlib \n",
        "import seaborn  as sns \n",
        "import statistics\n",
        "import scipy\n",
        "from scipy import stats\n",
        "import matplotlib.pyplot as plt"
      ]
    },
    {
      "cell_type": "code",
      "source": [
        "gdp = pd.read_csv(\"gdp_csv.csv\")"
      ],
      "metadata": {
        "id": "VluP2Ym7blVH"
      },
      "execution_count": null,
      "outputs": []
    },
    {
      "cell_type": "code",
      "source": [
        "print(gdp.shape)"
      ],
      "metadata": {
        "colab": {
          "base_uri": "https://localhost:8080/"
        },
        "id": "SbGAXwSjbt-j",
        "outputId": "cc97c24b-3786-4515-bb20-62bc1146b26d"
      },
      "execution_count": null,
      "outputs": [
        {
          "output_type": "stream",
          "name": "stdout",
          "text": [
            "(11507, 4)\n"
          ]
        }
      ]
    },
    {
      "cell_type": "code",
      "source": [
        "gdp.head()"
      ],
      "metadata": {
        "colab": {
          "base_uri": "https://localhost:8080/",
          "height": 206
        },
        "id": "YiHpDXNIdgL3",
        "outputId": "0a6cd4fc-0ff1-41c8-96ad-35876d530301"
      },
      "execution_count": null,
      "outputs": [
        {
          "output_type": "execute_result",
          "data": {
            "text/html": [
              "\n",
              "  <div id=\"df-ae0f0a7e-bdf2-4175-b7a7-ae9de8a9e5b2\">\n",
              "    <div class=\"colab-df-container\">\n",
              "      <div>\n",
              "<style scoped>\n",
              "    .dataframe tbody tr th:only-of-type {\n",
              "        vertical-align: middle;\n",
              "    }\n",
              "\n",
              "    .dataframe tbody tr th {\n",
              "        vertical-align: top;\n",
              "    }\n",
              "\n",
              "    .dataframe thead th {\n",
              "        text-align: right;\n",
              "    }\n",
              "</style>\n",
              "<table border=\"1\" class=\"dataframe\">\n",
              "  <thead>\n",
              "    <tr style=\"text-align: right;\">\n",
              "      <th></th>\n",
              "      <th>Country Name</th>\n",
              "      <th>Country Code</th>\n",
              "      <th>Year</th>\n",
              "      <th>Value</th>\n",
              "    </tr>\n",
              "  </thead>\n",
              "  <tbody>\n",
              "    <tr>\n",
              "      <th>0</th>\n",
              "      <td>Arab World</td>\n",
              "      <td>ARB</td>\n",
              "      <td>1968</td>\n",
              "      <td>2.576068e+10</td>\n",
              "    </tr>\n",
              "    <tr>\n",
              "      <th>1</th>\n",
              "      <td>Arab World</td>\n",
              "      <td>ARB</td>\n",
              "      <td>1969</td>\n",
              "      <td>2.843420e+10</td>\n",
              "    </tr>\n",
              "    <tr>\n",
              "      <th>2</th>\n",
              "      <td>Arab World</td>\n",
              "      <td>ARB</td>\n",
              "      <td>1970</td>\n",
              "      <td>3.138550e+10</td>\n",
              "    </tr>\n",
              "    <tr>\n",
              "      <th>3</th>\n",
              "      <td>Arab World</td>\n",
              "      <td>ARB</td>\n",
              "      <td>1971</td>\n",
              "      <td>3.642691e+10</td>\n",
              "    </tr>\n",
              "    <tr>\n",
              "      <th>4</th>\n",
              "      <td>Arab World</td>\n",
              "      <td>ARB</td>\n",
              "      <td>1972</td>\n",
              "      <td>4.331606e+10</td>\n",
              "    </tr>\n",
              "  </tbody>\n",
              "</table>\n",
              "</div>\n",
              "      <button class=\"colab-df-convert\" onclick=\"convertToInteractive('df-ae0f0a7e-bdf2-4175-b7a7-ae9de8a9e5b2')\"\n",
              "              title=\"Convert this dataframe to an interactive table.\"\n",
              "              style=\"display:none;\">\n",
              "        \n",
              "  <svg xmlns=\"http://www.w3.org/2000/svg\" height=\"24px\"viewBox=\"0 0 24 24\"\n",
              "       width=\"24px\">\n",
              "    <path d=\"M0 0h24v24H0V0z\" fill=\"none\"/>\n",
              "    <path d=\"M18.56 5.44l.94 2.06.94-2.06 2.06-.94-2.06-.94-.94-2.06-.94 2.06-2.06.94zm-11 1L8.5 8.5l.94-2.06 2.06-.94-2.06-.94L8.5 2.5l-.94 2.06-2.06.94zm10 10l.94 2.06.94-2.06 2.06-.94-2.06-.94-.94-2.06-.94 2.06-2.06.94z\"/><path d=\"M17.41 7.96l-1.37-1.37c-.4-.4-.92-.59-1.43-.59-.52 0-1.04.2-1.43.59L10.3 9.45l-7.72 7.72c-.78.78-.78 2.05 0 2.83L4 21.41c.39.39.9.59 1.41.59.51 0 1.02-.2 1.41-.59l7.78-7.78 2.81-2.81c.8-.78.8-2.07 0-2.86zM5.41 20L4 18.59l7.72-7.72 1.47 1.35L5.41 20z\"/>\n",
              "  </svg>\n",
              "      </button>\n",
              "      \n",
              "  <style>\n",
              "    .colab-df-container {\n",
              "      display:flex;\n",
              "      flex-wrap:wrap;\n",
              "      gap: 12px;\n",
              "    }\n",
              "\n",
              "    .colab-df-convert {\n",
              "      background-color: #E8F0FE;\n",
              "      border: none;\n",
              "      border-radius: 50%;\n",
              "      cursor: pointer;\n",
              "      display: none;\n",
              "      fill: #1967D2;\n",
              "      height: 32px;\n",
              "      padding: 0 0 0 0;\n",
              "      width: 32px;\n",
              "    }\n",
              "\n",
              "    .colab-df-convert:hover {\n",
              "      background-color: #E2EBFA;\n",
              "      box-shadow: 0px 1px 2px rgba(60, 64, 67, 0.3), 0px 1px 3px 1px rgba(60, 64, 67, 0.15);\n",
              "      fill: #174EA6;\n",
              "    }\n",
              "\n",
              "    [theme=dark] .colab-df-convert {\n",
              "      background-color: #3B4455;\n",
              "      fill: #D2E3FC;\n",
              "    }\n",
              "\n",
              "    [theme=dark] .colab-df-convert:hover {\n",
              "      background-color: #434B5C;\n",
              "      box-shadow: 0px 1px 3px 1px rgba(0, 0, 0, 0.15);\n",
              "      filter: drop-shadow(0px 1px 2px rgba(0, 0, 0, 0.3));\n",
              "      fill: #FFFFFF;\n",
              "    }\n",
              "  </style>\n",
              "\n",
              "      <script>\n",
              "        const buttonEl =\n",
              "          document.querySelector('#df-ae0f0a7e-bdf2-4175-b7a7-ae9de8a9e5b2 button.colab-df-convert');\n",
              "        buttonEl.style.display =\n",
              "          google.colab.kernel.accessAllowed ? 'block' : 'none';\n",
              "\n",
              "        async function convertToInteractive(key) {\n",
              "          const element = document.querySelector('#df-ae0f0a7e-bdf2-4175-b7a7-ae9de8a9e5b2');\n",
              "          const dataTable =\n",
              "            await google.colab.kernel.invokeFunction('convertToInteractive',\n",
              "                                                     [key], {});\n",
              "          if (!dataTable) return;\n",
              "\n",
              "          const docLinkHtml = 'Like what you see? Visit the ' +\n",
              "            '<a target=\"_blank\" href=https://colab.research.google.com/notebooks/data_table.ipynb>data table notebook</a>'\n",
              "            + ' to learn more about interactive tables.';\n",
              "          element.innerHTML = '';\n",
              "          dataTable['output_type'] = 'display_data';\n",
              "          await google.colab.output.renderOutput(dataTable, element);\n",
              "          const docLink = document.createElement('div');\n",
              "          docLink.innerHTML = docLinkHtml;\n",
              "          element.appendChild(docLink);\n",
              "        }\n",
              "      </script>\n",
              "    </div>\n",
              "  </div>\n",
              "  "
            ],
            "text/plain": [
              "  Country Name Country Code  Year         Value\n",
              "0   Arab World          ARB  1968  2.576068e+10\n",
              "1   Arab World          ARB  1969  2.843420e+10\n",
              "2   Arab World          ARB  1970  3.138550e+10\n",
              "3   Arab World          ARB  1971  3.642691e+10\n",
              "4   Arab World          ARB  1972  4.331606e+10"
            ]
          },
          "metadata": {},
          "execution_count": 56
        }
      ]
    },
    {
      "cell_type": "code",
      "source": [
        "gdp.tail()"
      ],
      "metadata": {
        "colab": {
          "base_uri": "https://localhost:8080/",
          "height": 206
        },
        "id": "U82twEfcdkRq",
        "outputId": "f6361791-32b1-4e64-fba1-5e7bcd644b54"
      },
      "execution_count": null,
      "outputs": [
        {
          "output_type": "execute_result",
          "data": {
            "text/html": [
              "\n",
              "  <div id=\"df-0c7d2360-d34a-4103-b3b6-1f70c278e8b7\">\n",
              "    <div class=\"colab-df-container\">\n",
              "      <div>\n",
              "<style scoped>\n",
              "    .dataframe tbody tr th:only-of-type {\n",
              "        vertical-align: middle;\n",
              "    }\n",
              "\n",
              "    .dataframe tbody tr th {\n",
              "        vertical-align: top;\n",
              "    }\n",
              "\n",
              "    .dataframe thead th {\n",
              "        text-align: right;\n",
              "    }\n",
              "</style>\n",
              "<table border=\"1\" class=\"dataframe\">\n",
              "  <thead>\n",
              "    <tr style=\"text-align: right;\">\n",
              "      <th></th>\n",
              "      <th>Country Name</th>\n",
              "      <th>Country Code</th>\n",
              "      <th>Year</th>\n",
              "      <th>Value</th>\n",
              "    </tr>\n",
              "  </thead>\n",
              "  <tbody>\n",
              "    <tr>\n",
              "      <th>11502</th>\n",
              "      <td>Zimbabwe</td>\n",
              "      <td>ZWE</td>\n",
              "      <td>2012</td>\n",
              "      <td>1.424249e+10</td>\n",
              "    </tr>\n",
              "    <tr>\n",
              "      <th>11503</th>\n",
              "      <td>Zimbabwe</td>\n",
              "      <td>ZWE</td>\n",
              "      <td>2013</td>\n",
              "      <td>1.545177e+10</td>\n",
              "    </tr>\n",
              "    <tr>\n",
              "      <th>11504</th>\n",
              "      <td>Zimbabwe</td>\n",
              "      <td>ZWE</td>\n",
              "      <td>2014</td>\n",
              "      <td>1.589105e+10</td>\n",
              "    </tr>\n",
              "    <tr>\n",
              "      <th>11505</th>\n",
              "      <td>Zimbabwe</td>\n",
              "      <td>ZWE</td>\n",
              "      <td>2015</td>\n",
              "      <td>1.630467e+10</td>\n",
              "    </tr>\n",
              "    <tr>\n",
              "      <th>11506</th>\n",
              "      <td>Zimbabwe</td>\n",
              "      <td>ZWE</td>\n",
              "      <td>2016</td>\n",
              "      <td>1.661996e+10</td>\n",
              "    </tr>\n",
              "  </tbody>\n",
              "</table>\n",
              "</div>\n",
              "      <button class=\"colab-df-convert\" onclick=\"convertToInteractive('df-0c7d2360-d34a-4103-b3b6-1f70c278e8b7')\"\n",
              "              title=\"Convert this dataframe to an interactive table.\"\n",
              "              style=\"display:none;\">\n",
              "        \n",
              "  <svg xmlns=\"http://www.w3.org/2000/svg\" height=\"24px\"viewBox=\"0 0 24 24\"\n",
              "       width=\"24px\">\n",
              "    <path d=\"M0 0h24v24H0V0z\" fill=\"none\"/>\n",
              "    <path d=\"M18.56 5.44l.94 2.06.94-2.06 2.06-.94-2.06-.94-.94-2.06-.94 2.06-2.06.94zm-11 1L8.5 8.5l.94-2.06 2.06-.94-2.06-.94L8.5 2.5l-.94 2.06-2.06.94zm10 10l.94 2.06.94-2.06 2.06-.94-2.06-.94-.94-2.06-.94 2.06-2.06.94z\"/><path d=\"M17.41 7.96l-1.37-1.37c-.4-.4-.92-.59-1.43-.59-.52 0-1.04.2-1.43.59L10.3 9.45l-7.72 7.72c-.78.78-.78 2.05 0 2.83L4 21.41c.39.39.9.59 1.41.59.51 0 1.02-.2 1.41-.59l7.78-7.78 2.81-2.81c.8-.78.8-2.07 0-2.86zM5.41 20L4 18.59l7.72-7.72 1.47 1.35L5.41 20z\"/>\n",
              "  </svg>\n",
              "      </button>\n",
              "      \n",
              "  <style>\n",
              "    .colab-df-container {\n",
              "      display:flex;\n",
              "      flex-wrap:wrap;\n",
              "      gap: 12px;\n",
              "    }\n",
              "\n",
              "    .colab-df-convert {\n",
              "      background-color: #E8F0FE;\n",
              "      border: none;\n",
              "      border-radius: 50%;\n",
              "      cursor: pointer;\n",
              "      display: none;\n",
              "      fill: #1967D2;\n",
              "      height: 32px;\n",
              "      padding: 0 0 0 0;\n",
              "      width: 32px;\n",
              "    }\n",
              "\n",
              "    .colab-df-convert:hover {\n",
              "      background-color: #E2EBFA;\n",
              "      box-shadow: 0px 1px 2px rgba(60, 64, 67, 0.3), 0px 1px 3px 1px rgba(60, 64, 67, 0.15);\n",
              "      fill: #174EA6;\n",
              "    }\n",
              "\n",
              "    [theme=dark] .colab-df-convert {\n",
              "      background-color: #3B4455;\n",
              "      fill: #D2E3FC;\n",
              "    }\n",
              "\n",
              "    [theme=dark] .colab-df-convert:hover {\n",
              "      background-color: #434B5C;\n",
              "      box-shadow: 0px 1px 3px 1px rgba(0, 0, 0, 0.15);\n",
              "      filter: drop-shadow(0px 1px 2px rgba(0, 0, 0, 0.3));\n",
              "      fill: #FFFFFF;\n",
              "    }\n",
              "  </style>\n",
              "\n",
              "      <script>\n",
              "        const buttonEl =\n",
              "          document.querySelector('#df-0c7d2360-d34a-4103-b3b6-1f70c278e8b7 button.colab-df-convert');\n",
              "        buttonEl.style.display =\n",
              "          google.colab.kernel.accessAllowed ? 'block' : 'none';\n",
              "\n",
              "        async function convertToInteractive(key) {\n",
              "          const element = document.querySelector('#df-0c7d2360-d34a-4103-b3b6-1f70c278e8b7');\n",
              "          const dataTable =\n",
              "            await google.colab.kernel.invokeFunction('convertToInteractive',\n",
              "                                                     [key], {});\n",
              "          if (!dataTable) return;\n",
              "\n",
              "          const docLinkHtml = 'Like what you see? Visit the ' +\n",
              "            '<a target=\"_blank\" href=https://colab.research.google.com/notebooks/data_table.ipynb>data table notebook</a>'\n",
              "            + ' to learn more about interactive tables.';\n",
              "          element.innerHTML = '';\n",
              "          dataTable['output_type'] = 'display_data';\n",
              "          await google.colab.output.renderOutput(dataTable, element);\n",
              "          const docLink = document.createElement('div');\n",
              "          docLink.innerHTML = docLinkHtml;\n",
              "          element.appendChild(docLink);\n",
              "        }\n",
              "      </script>\n",
              "    </div>\n",
              "  </div>\n",
              "  "
            ],
            "text/plain": [
              "      Country Name Country Code  Year         Value\n",
              "11502     Zimbabwe          ZWE  2012  1.424249e+10\n",
              "11503     Zimbabwe          ZWE  2013  1.545177e+10\n",
              "11504     Zimbabwe          ZWE  2014  1.589105e+10\n",
              "11505     Zimbabwe          ZWE  2015  1.630467e+10\n",
              "11506     Zimbabwe          ZWE  2016  1.661996e+10"
            ]
          },
          "metadata": {},
          "execution_count": 57
        }
      ]
    },
    {
      "cell_type": "code",
      "source": [
        "gdp.describe()"
      ],
      "metadata": {
        "colab": {
          "base_uri": "https://localhost:8080/",
          "height": 300
        },
        "id": "eqDPaIzYdnnt",
        "outputId": "e6b0c4c4-82cb-4e79-b961-01fef1900f01"
      },
      "execution_count": null,
      "outputs": [
        {
          "output_type": "execute_result",
          "data": {
            "text/html": [
              "\n",
              "  <div id=\"df-6d770113-5d59-444f-bec7-3f7de2285ef6\">\n",
              "    <div class=\"colab-df-container\">\n",
              "      <div>\n",
              "<style scoped>\n",
              "    .dataframe tbody tr th:only-of-type {\n",
              "        vertical-align: middle;\n",
              "    }\n",
              "\n",
              "    .dataframe tbody tr th {\n",
              "        vertical-align: top;\n",
              "    }\n",
              "\n",
              "    .dataframe thead th {\n",
              "        text-align: right;\n",
              "    }\n",
              "</style>\n",
              "<table border=\"1\" class=\"dataframe\">\n",
              "  <thead>\n",
              "    <tr style=\"text-align: right;\">\n",
              "      <th></th>\n",
              "      <th>Year</th>\n",
              "      <th>Value</th>\n",
              "    </tr>\n",
              "  </thead>\n",
              "  <tbody>\n",
              "    <tr>\n",
              "      <th>count</th>\n",
              "      <td>11507.000000</td>\n",
              "      <td>1.150700e+04</td>\n",
              "    </tr>\n",
              "    <tr>\n",
              "      <th>mean</th>\n",
              "      <td>1991.265230</td>\n",
              "      <td>1.005972e+12</td>\n",
              "    </tr>\n",
              "    <tr>\n",
              "      <th>std</th>\n",
              "      <td>15.886648</td>\n",
              "      <td>4.533056e+12</td>\n",
              "    </tr>\n",
              "    <tr>\n",
              "      <th>min</th>\n",
              "      <td>1960.000000</td>\n",
              "      <td>8.824448e+06</td>\n",
              "    </tr>\n",
              "    <tr>\n",
              "      <th>25%</th>\n",
              "      <td>1978.000000</td>\n",
              "      <td>2.056874e+09</td>\n",
              "    </tr>\n",
              "    <tr>\n",
              "      <th>50%</th>\n",
              "      <td>1993.000000</td>\n",
              "      <td>1.436880e+10</td>\n",
              "    </tr>\n",
              "    <tr>\n",
              "      <th>75%</th>\n",
              "      <td>2005.000000</td>\n",
              "      <td>1.796394e+11</td>\n",
              "    </tr>\n",
              "    <tr>\n",
              "      <th>max</th>\n",
              "      <td>2016.000000</td>\n",
              "      <td>7.904923e+13</td>\n",
              "    </tr>\n",
              "  </tbody>\n",
              "</table>\n",
              "</div>\n",
              "      <button class=\"colab-df-convert\" onclick=\"convertToInteractive('df-6d770113-5d59-444f-bec7-3f7de2285ef6')\"\n",
              "              title=\"Convert this dataframe to an interactive table.\"\n",
              "              style=\"display:none;\">\n",
              "        \n",
              "  <svg xmlns=\"http://www.w3.org/2000/svg\" height=\"24px\"viewBox=\"0 0 24 24\"\n",
              "       width=\"24px\">\n",
              "    <path d=\"M0 0h24v24H0V0z\" fill=\"none\"/>\n",
              "    <path d=\"M18.56 5.44l.94 2.06.94-2.06 2.06-.94-2.06-.94-.94-2.06-.94 2.06-2.06.94zm-11 1L8.5 8.5l.94-2.06 2.06-.94-2.06-.94L8.5 2.5l-.94 2.06-2.06.94zm10 10l.94 2.06.94-2.06 2.06-.94-2.06-.94-.94-2.06-.94 2.06-2.06.94z\"/><path d=\"M17.41 7.96l-1.37-1.37c-.4-.4-.92-.59-1.43-.59-.52 0-1.04.2-1.43.59L10.3 9.45l-7.72 7.72c-.78.78-.78 2.05 0 2.83L4 21.41c.39.39.9.59 1.41.59.51 0 1.02-.2 1.41-.59l7.78-7.78 2.81-2.81c.8-.78.8-2.07 0-2.86zM5.41 20L4 18.59l7.72-7.72 1.47 1.35L5.41 20z\"/>\n",
              "  </svg>\n",
              "      </button>\n",
              "      \n",
              "  <style>\n",
              "    .colab-df-container {\n",
              "      display:flex;\n",
              "      flex-wrap:wrap;\n",
              "      gap: 12px;\n",
              "    }\n",
              "\n",
              "    .colab-df-convert {\n",
              "      background-color: #E8F0FE;\n",
              "      border: none;\n",
              "      border-radius: 50%;\n",
              "      cursor: pointer;\n",
              "      display: none;\n",
              "      fill: #1967D2;\n",
              "      height: 32px;\n",
              "      padding: 0 0 0 0;\n",
              "      width: 32px;\n",
              "    }\n",
              "\n",
              "    .colab-df-convert:hover {\n",
              "      background-color: #E2EBFA;\n",
              "      box-shadow: 0px 1px 2px rgba(60, 64, 67, 0.3), 0px 1px 3px 1px rgba(60, 64, 67, 0.15);\n",
              "      fill: #174EA6;\n",
              "    }\n",
              "\n",
              "    [theme=dark] .colab-df-convert {\n",
              "      background-color: #3B4455;\n",
              "      fill: #D2E3FC;\n",
              "    }\n",
              "\n",
              "    [theme=dark] .colab-df-convert:hover {\n",
              "      background-color: #434B5C;\n",
              "      box-shadow: 0px 1px 3px 1px rgba(0, 0, 0, 0.15);\n",
              "      filter: drop-shadow(0px 1px 2px rgba(0, 0, 0, 0.3));\n",
              "      fill: #FFFFFF;\n",
              "    }\n",
              "  </style>\n",
              "\n",
              "      <script>\n",
              "        const buttonEl =\n",
              "          document.querySelector('#df-6d770113-5d59-444f-bec7-3f7de2285ef6 button.colab-df-convert');\n",
              "        buttonEl.style.display =\n",
              "          google.colab.kernel.accessAllowed ? 'block' : 'none';\n",
              "\n",
              "        async function convertToInteractive(key) {\n",
              "          const element = document.querySelector('#df-6d770113-5d59-444f-bec7-3f7de2285ef6');\n",
              "          const dataTable =\n",
              "            await google.colab.kernel.invokeFunction('convertToInteractive',\n",
              "                                                     [key], {});\n",
              "          if (!dataTable) return;\n",
              "\n",
              "          const docLinkHtml = 'Like what you see? Visit the ' +\n",
              "            '<a target=\"_blank\" href=https://colab.research.google.com/notebooks/data_table.ipynb>data table notebook</a>'\n",
              "            + ' to learn more about interactive tables.';\n",
              "          element.innerHTML = '';\n",
              "          dataTable['output_type'] = 'display_data';\n",
              "          await google.colab.output.renderOutput(dataTable, element);\n",
              "          const docLink = document.createElement('div');\n",
              "          docLink.innerHTML = docLinkHtml;\n",
              "          element.appendChild(docLink);\n",
              "        }\n",
              "      </script>\n",
              "    </div>\n",
              "  </div>\n",
              "  "
            ],
            "text/plain": [
              "               Year         Value\n",
              "count  11507.000000  1.150700e+04\n",
              "mean    1991.265230  1.005972e+12\n",
              "std       15.886648  4.533056e+12\n",
              "min     1960.000000  8.824448e+06\n",
              "25%     1978.000000  2.056874e+09\n",
              "50%     1993.000000  1.436880e+10\n",
              "75%     2005.000000  1.796394e+11\n",
              "max     2016.000000  7.904923e+13"
            ]
          },
          "metadata": {},
          "execution_count": 7
        }
      ]
    },
    {
      "cell_type": "code",
      "source": [
        "gdp[\"Country Name\"].unique()"
      ],
      "metadata": {
        "colab": {
          "base_uri": "https://localhost:8080/"
        },
        "id": "Q5RhuOqNdrSf",
        "outputId": "6e9bd796-3d53-4080-ee9c-0a2e5b427a0a"
      },
      "execution_count": null,
      "outputs": [
        {
          "output_type": "execute_result",
          "data": {
            "text/plain": [
              "array(['Arab World', 'Caribbean small states',\n",
              "       'Central Europe and the Baltics', 'Early-demographic dividend',\n",
              "       'East Asia & Pacific',\n",
              "       'East Asia & Pacific (excluding high income)',\n",
              "       'East Asia & Pacific (IDA & IBRD countries)', 'Euro area',\n",
              "       'Europe & Central Asia',\n",
              "       'Europe & Central Asia (excluding high income)',\n",
              "       'Europe & Central Asia (IDA & IBRD countries)', 'European Union',\n",
              "       'Fragile and conflict affected situations',\n",
              "       'Heavily indebted poor countries (HIPC)', 'High income',\n",
              "       'IBRD only', 'IDA & IBRD total', 'IDA blend', 'IDA only',\n",
              "       'IDA total', 'Late-demographic dividend',\n",
              "       'Latin America & Caribbean',\n",
              "       'Latin America & Caribbean (excluding high income)',\n",
              "       'Latin America & the Caribbean (IDA & IBRD countries)',\n",
              "       'Least developed countries: UN classification',\n",
              "       'Low & middle income', 'Low income', 'Lower middle income',\n",
              "       'Middle East & North Africa',\n",
              "       'Middle East & North Africa (excluding high income)',\n",
              "       'Middle East & North Africa (IDA & IBRD countries)',\n",
              "       'Middle income', 'North America', 'OECD members',\n",
              "       'Other small states', 'Pacific island small states',\n",
              "       'Post-demographic dividend', 'Pre-demographic dividend',\n",
              "       'Small states', 'South Asia', 'South Asia (IDA & IBRD)',\n",
              "       'Sub-Saharan Africa', 'Sub-Saharan Africa (excluding high income)',\n",
              "       'Sub-Saharan Africa (IDA & IBRD countries)', 'Upper middle income',\n",
              "       'World', 'Afghanistan', 'Albania', 'Algeria', 'American Samoa',\n",
              "       'Andorra', 'Angola', 'Antigua and Barbuda', 'Argentina', 'Armenia',\n",
              "       'Aruba', 'Australia', 'Austria', 'Azerbaijan', 'Bahamas, The',\n",
              "       'Bahrain', 'Bangladesh', 'Barbados', 'Belarus', 'Belgium',\n",
              "       'Belize', 'Benin', 'Bermuda', 'Bhutan', 'Bolivia',\n",
              "       'Bosnia and Herzegovina', 'Botswana', 'Brazil',\n",
              "       'Brunei Darussalam', 'Bulgaria', 'Burkina Faso', 'Burundi',\n",
              "       'Cabo Verde', 'Cambodia', 'Cameroon', 'Canada', 'Cayman Islands',\n",
              "       'Central African Republic', 'Chad', 'Channel Islands', 'Chile',\n",
              "       'China', 'Colombia', 'Comoros', 'Congo, Dem. Rep.', 'Congo, Rep.',\n",
              "       'Costa Rica', \"Cote d'Ivoire\", 'Croatia', 'Cuba', 'Cyprus',\n",
              "       'Czech Republic', 'Denmark', 'Djibouti', 'Dominica',\n",
              "       'Dominican Republic', 'Ecuador', 'Egypt, Arab Rep.', 'El Salvador',\n",
              "       'Equatorial Guinea', 'Eritrea', 'Estonia', 'Ethiopia',\n",
              "       'Faroe Islands', 'Fiji', 'Finland', 'France', 'French Polynesia',\n",
              "       'Gabon', 'Gambia, The', 'Georgia', 'Germany', 'Ghana', 'Greece',\n",
              "       'Greenland', 'Grenada', 'Guam', 'Guatemala', 'Guinea',\n",
              "       'Guinea-Bissau', 'Guyana', 'Haiti', 'Honduras',\n",
              "       'Hong Kong SAR, China', 'Hungary', 'Iceland', 'India', 'Indonesia',\n",
              "       'Iran, Islamic Rep.', 'Iraq', 'Ireland', 'Isle of Man', 'Israel',\n",
              "       'Italy', 'Jamaica', 'Japan', 'Jordan', 'Kazakhstan', 'Kenya',\n",
              "       'Kiribati', 'Korea, Rep.', 'Kosovo', 'Kuwait', 'Kyrgyz Republic',\n",
              "       'Lao PDR', 'Latvia', 'Lebanon', 'Lesotho', 'Liberia', 'Libya',\n",
              "       'Liechtenstein', 'Lithuania', 'Luxembourg', 'Macao SAR, China',\n",
              "       'Macedonia, FYR', 'Madagascar', 'Malawi', 'Malaysia', 'Maldives',\n",
              "       'Mali', 'Malta', 'Marshall Islands', 'Mauritania', 'Mauritius',\n",
              "       'Mexico', 'Micronesia, Fed. Sts.', 'Moldova', 'Monaco', 'Mongolia',\n",
              "       'Montenegro', 'Morocco', 'Mozambique', 'Myanmar', 'Namibia',\n",
              "       'Nauru', 'Nepal', 'Netherlands', 'New Caledonia', 'New Zealand',\n",
              "       'Nicaragua', 'Niger', 'Nigeria', 'Northern Mariana Islands',\n",
              "       'Norway', 'Oman', 'Pakistan', 'Palau', 'Panama',\n",
              "       'Papua New Guinea', 'Paraguay', 'Peru', 'Philippines', 'Poland',\n",
              "       'Portugal', 'Puerto Rico', 'Qatar', 'Romania',\n",
              "       'Russian Federation', 'Rwanda', 'Samoa', 'San Marino',\n",
              "       'Sao Tome and Principe', 'Saudi Arabia', 'Senegal', 'Serbia',\n",
              "       'Seychelles', 'Sierra Leone', 'Singapore', 'Slovak Republic',\n",
              "       'Slovenia', 'Solomon Islands', 'Somalia', 'South Africa',\n",
              "       'South Sudan', 'Spain', 'Sri Lanka', 'St. Kitts and Nevis',\n",
              "       'St. Lucia', 'St. Vincent and the Grenadines', 'Sudan', 'Suriname',\n",
              "       'Swaziland', 'Sweden', 'Switzerland', 'Syrian Arab Republic',\n",
              "       'Tajikistan', 'Tanzania', 'Thailand', 'Timor-Leste', 'Togo',\n",
              "       'Tonga', 'Trinidad and Tobago', 'Tunisia', 'Turkey',\n",
              "       'Turkmenistan', 'Tuvalu', 'Uganda', 'Ukraine',\n",
              "       'United Arab Emirates', 'United Kingdom', 'United States',\n",
              "       'Uruguay', 'Uzbekistan', 'Vanuatu', 'Venezuela, RB', 'Vietnam',\n",
              "       'Virgin Islands (U.S.)', 'West Bank and Gaza', 'Yemen, Rep.',\n",
              "       'Zambia', 'Zimbabwe'], dtype=object)"
            ]
          },
          "metadata": {},
          "execution_count": 8
        }
      ]
    },
    {
      "cell_type": "code",
      "source": [
        "#for India\n",
        "ind = gdp[gdp['Country Name']=='India']\n",
        "print(ind)\n",
        "#Shape\n",
        "print(gdp.shape) "
      ],
      "metadata": {
        "colab": {
          "base_uri": "https://localhost:8080/"
        },
        "id": "0t4bbYCDdvQQ",
        "outputId": "4ee681ac-4a63-4e28-b704-346f0454f2ef"
      },
      "execution_count": null,
      "outputs": [
        {
          "output_type": "stream",
          "name": "stdout",
          "text": [
            "     Country Name Country Code  Year         Value\n",
            "6074        India          IND  1960  3.653593e+10\n",
            "6075        India          IND  1961  3.870910e+10\n",
            "6076        India          IND  1962  4.159907e+10\n",
            "6077        India          IND  1963  4.777600e+10\n",
            "6078        India          IND  1964  5.572687e+10\n",
            "6079        India          IND  1965  5.876042e+10\n",
            "6080        India          IND  1966  4.525364e+10\n",
            "6081        India          IND  1967  4.946617e+10\n",
            "6082        India          IND  1968  5.237732e+10\n",
            "6083        India          IND  1969  5.766833e+10\n",
            "6084        India          IND  1970  6.158980e+10\n",
            "6085        India          IND  1971  6.645256e+10\n",
            "6086        India          IND  1972  7.050991e+10\n",
            "6087        India          IND  1973  8.437454e+10\n",
            "6088        India          IND  1974  9.819828e+10\n",
            "6089        India          IND  1975  9.715922e+10\n",
            "6090        India          IND  1976  1.013470e+11\n",
            "6091        India          IND  1977  1.198667e+11\n",
            "6092        India          IND  1978  1.354688e+11\n",
            "6093        India          IND  1979  1.509508e+11\n",
            "6094        India          IND  1980  1.838399e+11\n",
            "6095        India          IND  1981  1.909095e+11\n",
            "6096        India          IND  1982  1.980377e+11\n",
            "6097        India          IND  1983  2.153508e+11\n",
            "6098        India          IND  1984  2.093282e+11\n",
            "6099        India          IND  1985  2.294103e+11\n",
            "6100        India          IND  1986  2.456647e+11\n",
            "6101        India          IND  1987  2.753114e+11\n",
            "6102        India          IND  1988  2.926327e+11\n",
            "6103        India          IND  1989  2.920933e+11\n",
            "6104        India          IND  1990  3.166973e+11\n",
            "6105        India          IND  1991  2.665023e+11\n",
            "6106        India          IND  1992  2.843639e+11\n",
            "6107        India          IND  1993  2.755704e+11\n",
            "6108        India          IND  1994  3.229099e+11\n",
            "6109        India          IND  1995  3.554760e+11\n",
            "6110        India          IND  1996  3.876560e+11\n",
            "6111        India          IND  1997  4.103203e+11\n",
            "6112        India          IND  1998  4.157309e+11\n",
            "6113        India          IND  1999  4.527000e+11\n",
            "6114        India          IND  2000  4.621468e+11\n",
            "6115        India          IND  2001  4.789655e+11\n",
            "6116        India          IND  2002  5.080690e+11\n",
            "6117        India          IND  2003  5.995929e+11\n",
            "6118        India          IND  2004  6.996889e+11\n",
            "6119        India          IND  2005  8.089011e+11\n",
            "6120        India          IND  2006  9.203165e+11\n",
            "6121        India          IND  2007  1.201112e+12\n",
            "6122        India          IND  2008  1.186953e+12\n",
            "6123        India          IND  2009  1.323940e+12\n",
            "6124        India          IND  2010  1.656617e+12\n",
            "6125        India          IND  2011  1.823050e+12\n",
            "6126        India          IND  2012  1.827638e+12\n",
            "6127        India          IND  2013  1.856722e+12\n",
            "6128        India          IND  2014  2.035393e+12\n",
            "6129        India          IND  2015  2.089865e+12\n",
            "6130        India          IND  2016  2.263792e+12\n",
            "(11507, 4)\n"
          ]
        }
      ]
    },
    {
      "cell_type": "code",
      "source": [
        "ind.plot(x='Year', y='Value', kind='line') \n",
        "plt.show()"
      ],
      "metadata": {
        "colab": {
          "base_uri": "https://localhost:8080/",
          "height": 290
        },
        "id": "qD21VxZbd59X",
        "outputId": "0eb762c9-277b-49e7-cfcb-d806fc370cac"
      },
      "execution_count": null,
      "outputs": [
        {
          "output_type": "display_data",
          "data": {
            "image/png": "[encoded data removed]",
            "text/plain": [
              "<Figure size 432x288 with 1 Axes>"
            ]
          },
          "metadata": {
            "needs_background": "light"
          }
        }
      ]
    },
    {
      "cell_type": "code",
      "source": [
        "#For USA\n",
        "usa = gdp[gdp['Country Name']=='United States']\n",
        "print(usa)"
      ],
      "metadata": {
        "colab": {
          "base_uri": "https://localhost:8080/"
        },
        "id": "R7Yy6Vg_eA2w",
        "outputId": "d99d1dc7-852f-48ea-abb0-1c3188316a16"
      },
      "execution_count": null,
      "outputs": [
        {
          "output_type": "stream",
          "name": "stdout",
          "text": [
            "        Country Name Country Code  Year         Value\n",
            "11029  United States          USA  1960  5.433000e+11\n",
            "11030  United States          USA  1961  5.633000e+11\n",
            "11031  United States          USA  1962  6.051000e+11\n",
            "11032  United States          USA  1963  6.386000e+11\n",
            "11033  United States          USA  1964  6.858000e+11\n",
            "11034  United States          USA  1965  7.437000e+11\n",
            "11035  United States          USA  1966  8.150000e+11\n",
            "11036  United States          USA  1967  8.617000e+11\n",
            "11037  United States          USA  1968  9.425000e+11\n",
            "11038  United States          USA  1969  1.019900e+12\n",
            "11039  United States          USA  1970  1.075884e+12\n",
            "11040  United States          USA  1971  1.167770e+12\n",
            "11041  United States          USA  1972  1.282449e+12\n",
            "11042  United States          USA  1973  1.428549e+12\n",
            "11043  United States          USA  1974  1.548825e+12\n",
            "11044  United States          USA  1975  1.688923e+12\n",
            "11045  United States          USA  1976  1.877587e+12\n",
            "11046  United States          USA  1977  2.085951e+12\n",
            "11047  United States          USA  1978  2.356571e+12\n",
            "11048  United States          USA  1979  2.632143e+12\n",
            "11049  United States          USA  1980  2.862505e+12\n",
            "11050  United States          USA  1981  3.210956e+12\n",
            "11051  United States          USA  1982  3.344991e+12\n",
            "11052  United States          USA  1983  3.638137e+12\n",
            "11053  United States          USA  1984  4.040693e+12\n",
            "11054  United States          USA  1985  4.346734e+12\n",
            "11055  United States          USA  1986  4.590155e+12\n",
            "11056  United States          USA  1987  4.870217e+12\n",
            "11057  United States          USA  1988  5.252629e+12\n",
            "11058  United States          USA  1989  5.657693e+12\n",
            "11059  United States          USA  1990  5.979589e+12\n",
            "11060  United States          USA  1991  6.174043e+12\n",
            "11061  United States          USA  1992  6.539299e+12\n",
            "11062  United States          USA  1993  6.878718e+12\n",
            "11063  United States          USA  1994  7.308755e+12\n",
            "11064  United States          USA  1995  7.664060e+12\n",
            "11065  United States          USA  1996  8.100201e+12\n",
            "11066  United States          USA  1997  8.608515e+12\n",
            "11067  United States          USA  1998  9.089168e+12\n",
            "11068  United States          USA  1999  9.660624e+12\n",
            "11069  United States          USA  2000  1.028478e+13\n",
            "11070  United States          USA  2001  1.062182e+13\n",
            "11071  United States          USA  2002  1.097751e+13\n",
            "11072  United States          USA  2003  1.151067e+13\n",
            "11073  United States          USA  2004  1.227493e+13\n",
            "11074  United States          USA  2005  1.309373e+13\n",
            "11075  United States          USA  2006  1.385589e+13\n",
            "11076  United States          USA  2007  1.447764e+13\n",
            "11077  United States          USA  2008  1.471858e+13\n",
            "11078  United States          USA  2009  1.441874e+13\n",
            "11079  United States          USA  2010  1.496437e+13\n",
            "11080  United States          USA  2011  1.551793e+13\n",
            "11081  United States          USA  2012  1.615526e+13\n",
            "11082  United States          USA  2013  1.669152e+13\n",
            "11083  United States          USA  2014  1.739310e+13\n",
            "11084  United States          USA  2015  1.812071e+13\n",
            "11085  United States          USA  2016  1.862448e+13\n"
          ]
        }
      ]
    },
    {
      "cell_type": "code",
      "source": [
        "usa.plot(x='Year', y='Value', kind='line') \n",
        "plt.show()"
      ],
      "metadata": {
        "colab": {
          "base_uri": "https://localhost:8080/",
          "height": 290
        },
        "id": "1M2J-SK3eFDU",
        "outputId": "0b18015c-1a9e-4b97-d58c-cf804bb20d6f"
      },
      "execution_count": null,
      "outputs": [
        {
          "output_type": "display_data",
          "data": {
            "image/png": "[encoded data removed]",
            "text/plain": [
              "<Figure size 432x288 with 1 Axes>"
            ]
          },
          "metadata": {
            "needs_background": "light"
          }
        }
      ]
    },
    {
      "cell_type": "code",
      "source": [
        "#Testing and Training a Model for Predicting India's GDP using Linear Regression\n",
        "from sklearn import preprocessing, svm\n",
        "from sklearn.model_selection import train_test_split\n",
        "from sklearn.linear_model import LinearRegression"
      ],
      "metadata": {
        "id": "_5i77u_4eIXJ"
      },
      "execution_count": null,
      "outputs": []
    },
    {
      "cell_type": "code",
      "source": [
        "x = np.array(ind['Year']).reshape(-1, 1)\n",
        "y = np.array(ind['Value']).reshape(-1, 1)"
      ],
      "metadata": {
        "id": "nqK-LAkjeMLC"
      },
      "execution_count": null,
      "outputs": []
    },
    {
      "cell_type": "code",
      "source": [
        "# Plotting the data scatter\n",
        "sns.lmplot(x =\"Year\", y =\"Value\", data = ind, order = 2, ci = None)"
      ],
      "metadata": {
        "colab": {
          "base_uri": "https://localhost:8080/",
          "height": 386
        },
        "id": "OCqM4PQDePva",
        "outputId": "59e0ab44-9f05-4393-efc3-5c0993480612"
      },
      "execution_count": null,
      "outputs": [
        {
          "output_type": "execute_result",
          "data": {
            "text/plain": [
              "<seaborn.axisgrid.FacetGrid at 0x7f5734bb3dd0>"
            ]
          },
          "metadata": {},
          "execution_count": 15
        },
        {
          "output_type": "display_data",
          "data": {
            "image/png": "[encoded data removed]",
            "text/plain": [
              "<Figure size 360x360 with 1 Axes>"
            ]
          },
          "metadata": {
            "needs_background": "light"
          }
        }
      ]
    },
    {
      "cell_type": "code",
      "source": [
        "# x_train, x_test, y_train, y_test = train_test_split(x, y, test_size = 0.10,random_state = 0)\n",
        "x_train = x[:int(x.shape[0]*0.8)]\n",
        "x_test = x[int(x.shape[0]*0.8):]\n",
        "y_train = y[:int(y.shape[0]*0.8)]\n",
        "y_test = y[int(y.shape[0]*0.8):]"
      ],
      "metadata": {
        "id": "WjJ4qIvPeTHn"
      },
      "execution_count": null,
      "outputs": []
    },
    {
      "cell_type": "code",
      "source": [
        "x_test"
      ],
      "metadata": {
        "colab": {
          "base_uri": "https://localhost:8080/"
        },
        "id": "iCRkpYivqsZv",
        "outputId": "27152fa6-4353-4546-a35a-1378b2f2b2c1"
      },
      "execution_count": null,
      "outputs": [
        {
          "output_type": "execute_result",
          "data": {
            "text/plain": [
              "array([[2005],\n",
              "       [2006],\n",
              "       [2007],\n",
              "       [2008],\n",
              "       [2009],\n",
              "       [2010],\n",
              "       [2011],\n",
              "       [2012],\n",
              "       [2013],\n",
              "       [2014],\n",
              "       [2015],\n",
              "       [2016]])"
            ]
          },
          "metadata": {},
          "execution_count": 17
        }
      ]
    },
    {
      "cell_type": "code",
      "source": [
        "regr = LinearRegression()\n",
        "  \n",
        "regr.fit(x_train, y_train)\n",
        "print('coefficient of determination:',regr.score(x_test, y_test))"
      ],
      "metadata": {
        "colab": {
          "base_uri": "https://localhost:8080/"
        },
        "id": "w5nCeR3Pec-A",
        "outputId": "a4a748ac-6b41-4dd7-e925-29da788b6f0a"
      },
      "execution_count": null,
      "outputs": [
        {
          "output_type": "stream",
          "name": "stdout",
          "text": [
            "coefficient of determination: -4.676407010020001\n"
          ]
        }
      ]
    },
    {
      "cell_type": "code",
      "source": [
        "# Data scatter of predicted values\n",
        "regr_y_test_pred = regr.predict(x_test)\n",
        "print('predicted response:', regr_y_test_pred, sep='\\n')\n",
        "plt.scatter(x_test, y_test, color ='b')\n",
        "plt.plot(x_test, regr_y_test_pred, color ='k')\n",
        "plt.show()"
      ],
      "metadata": {
        "colab": {
          "base_uri": "https://localhost:8080/",
          "height": 502
        },
        "id": "kW8EUfQbeg4k",
        "outputId": "b9db7a7e-04b7-4e51-a1df-8127ee2bd932"
      },
      "execution_count": null,
      "outputs": [
        {
          "output_type": "stream",
          "name": "stdout",
          "text": [
            "predicted response:\n",
            "[[5.04329521e+11]\n",
            " [5.16557608e+11]\n",
            " [5.28785695e+11]\n",
            " [5.41013781e+11]\n",
            " [5.53241868e+11]\n",
            " [5.65469954e+11]\n",
            " [5.77698041e+11]\n",
            " [5.89926128e+11]\n",
            " [6.02154214e+11]\n",
            " [6.14382301e+11]\n",
            " [6.26610387e+11]\n",
            " [6.38838474e+11]]\n"
          ]
        },
        {
          "output_type": "display_data",
          "data": {
            "image/png": "[encoded data removed]",
            "text/plain": [
              "<Figure size 432x288 with 1 Axes>"
            ]
          },
          "metadata": {
            "needs_background": "light"
          }
        }
      ]
    },
    {
      "cell_type": "markdown",
      "source": [
        "Prediction for India using Linear Regression for year 2017"
      ],
      "metadata": {
        "id": "WAuZ3q0vuXnt"
      }
    },
    {
      "cell_type": "code",
      "source": [
        "regr_y_pred = regr.predict([[2017]])\n",
        "regr_y_pred"
      ],
      "metadata": {
        "id": "ra0gPXmKejjb",
        "colab": {
          "base_uri": "https://localhost:8080/"
        },
        "outputId": "788f8de8-40b3-4a24-86c1-0ef0608bc105"
      },
      "execution_count": null,
      "outputs": [
        {
          "output_type": "execute_result",
          "data": {
            "text/plain": [
              "array([[6.51066561e+11]])"
            ]
          },
          "metadata": {},
          "execution_count": 27
        }
      ]
    },
    {
      "cell_type": "code",
      "source": [
        "#Fitting Decision Tree classifier to the training set\n",
        "from sklearn.ensemble import RandomForestRegressor \n",
        "rfr = RandomForestRegressor()  \n",
        "rfr.fit(x_train, y_train)"
      ],
      "metadata": {
        "colab": {
          "base_uri": "https://localhost:8080/"
        },
        "id": "tHxeC8u1MltS",
        "outputId": "e9a49713-270e-4ba7-b2fd-d4445320cb4e"
      },
      "execution_count": null,
      "outputs": [
        {
          "output_type": "stream",
          "name": "stderr",
          "text": [
            "/usr/local/lib/python3.7/dist-packages/ipykernel_launcher.py:4: DataConversionWarning: A column-vector y was passed when a 1d array was expected. Please change the shape of y to (n_samples,), for example using ravel().\n",
            "  after removing the cwd from sys.path.\n"
          ]
        },
        {
          "output_type": "execute_result",
          "data": {
            "text/plain": [
              "RandomForestRegressor()"
            ]
          },
          "metadata": {},
          "execution_count": 48
        }
      ]
    },
    {
      "cell_type": "code",
      "source": [
        "rfr_y_test_pred = rfr.predict(x_test)\n",
        "print('predicted response:', rfr_y_test_pred, sep='\\n')\n",
        "plt.scatter(x_test, y_test, color ='b')\n",
        "plt.plot(x_test, rfr_y_test_pred, color ='k')\n",
        "plt.show()"
      ],
      "metadata": {
        "colab": {
          "base_uri": "https://localhost:8080/",
          "height": 345
        },
        "id": "QfhMn7nEXy4g",
        "outputId": "de39a71c-ab0b-4fd3-fa10-f1cc7718e45a"
      },
      "execution_count": null,
      "outputs": [
        {
          "output_type": "stream",
          "name": "stdout",
          "text": [
            "predicted response:\n",
            "[6.61502176e+11 6.61502176e+11 6.61502176e+11 6.61502176e+11\n",
            " 6.61502176e+11 6.61502176e+11 6.61502176e+11 6.61502176e+11\n",
            " 6.61502176e+11 6.61502176e+11 6.61502176e+11 6.61502176e+11]\n"
          ]
        },
        {
          "output_type": "display_data",
          "data": {
            "image/png": "[encoded data removed]",
            "text/plain": [
              "<Figure size 432x288 with 1 Axes>"
            ]
          },
          "metadata": {
            "needs_background": "light"
          }
        }
      ]
    },
    {
      "cell_type": "code",
      "source": [
        "rfr_y_pred = rfr.predict([[2017]])\n",
        "rfr_y_pred"
      ],
      "metadata": {
        "colab": {
          "base_uri": "https://localhost:8080/"
        },
        "id": "3u31O3zF0GdA",
        "outputId": "7c7ae27d-137b-4ff4-f450-d04ba0fb8578"
      },
      "execution_count": null,
      "outputs": [
        {
          "output_type": "execute_result",
          "data": {
            "text/plain": [
              "array([6.61502176e+11])"
            ]
          },
          "metadata": {},
          "execution_count": 29
        }
      ]
    },
    {
      "cell_type": "code",
      "source": [
        "rfr_y_test_pred.reshape(rfr_y_test_pred.shape[0],1)"
      ],
      "metadata": {
        "colab": {
          "base_uri": "https://localhost:8080/"
        },
        "id": "kfVU6L98bzPE",
        "outputId": "a07aa0f4-d36b-4b0a-bba8-0dd45d7f84ad"
      },
      "execution_count": null,
      "outputs": [
        {
          "output_type": "execute_result",
          "data": {
            "text/plain": [
              "array([[6.61502176e+11],\n",
              "       [6.61502176e+11],\n",
              "       [6.61502176e+11],\n",
              "       [6.61502176e+11],\n",
              "       [6.61502176e+11],\n",
              "       [6.61502176e+11],\n",
              "       [6.61502176e+11],\n",
              "       [6.61502176e+11],\n",
              "       [6.61502176e+11],\n",
              "       [6.61502176e+11],\n",
              "       [6.61502176e+11],\n",
              "       [6.61502176e+11]])"
            ]
          },
          "metadata": {},
          "execution_count": 49
        }
      ]
    },
    {
      "cell_type": "code",
      "source": [
        "regr_y_test_pred.reshape(regr_y_test_pred.shape[0],1)"
      ],
      "metadata": {
        "colab": {
          "base_uri": "https://localhost:8080/"
        },
        "id": "kxFDnJwcb2kv",
        "outputId": "7d0b4d72-4d13-4044-89c9-8a05fe0944f0"
      },
      "execution_count": null,
      "outputs": [
        {
          "output_type": "execute_result",
          "data": {
            "text/plain": [
              "array([[5.04329521e+11],\n",
              "       [5.16557608e+11],\n",
              "       [5.28785695e+11],\n",
              "       [5.41013781e+11],\n",
              "       [5.53241868e+11],\n",
              "       [5.65469954e+11],\n",
              "       [5.77698041e+11],\n",
              "       [5.89926128e+11],\n",
              "       [6.02154214e+11],\n",
              "       [6.14382301e+11],\n",
              "       [6.26610387e+11],\n",
              "       [6.38838474e+11]])"
            ]
          },
          "metadata": {},
          "execution_count": 46
        }
      ]
    },
    {
      "cell_type": "code",
      "source": [
        "custom_model_y_pred = np.zeros((regr_y_test_pred.shape[0],1))\n",
        "for i in range(regr_y_test_pred.shape[0]):\n",
        "  custom_model_y_pred[i] = (rfr_y_test_pred[i]+regr_y_test_pred[i])/2\n",
        "print('predicted response:', custom_model_y_pred, sep='\\n')\n",
        "plt.scatter(x_test, y_test, color ='b')\n",
        "plt.plot(x_test, custom_model_y_pred, color ='k')\n",
        "plt.show()"
      ],
      "metadata": {
        "colab": {
          "base_uri": "https://localhost:8080/",
          "height": 502
        },
        "id": "YX7Iz97HX3tD",
        "outputId": "7b3be550-dd32-4d80-8a10-0c86fbe13a2a"
      },
      "execution_count": null,
      "outputs": [
        {
          "output_type": "stream",
          "name": "stdout",
          "text": [
            "predicted response:\n",
            "[[5.82915848e+11]\n",
            " [5.89029892e+11]\n",
            " [5.95143935e+11]\n",
            " [6.01257978e+11]\n",
            " [6.07372022e+11]\n",
            " [6.13486065e+11]\n",
            " [6.19600108e+11]\n",
            " [6.25714152e+11]\n",
            " [6.31828195e+11]\n",
            " [6.37942238e+11]\n",
            " [6.44056282e+11]\n",
            " [6.50170325e+11]]\n"
          ]
        },
        {
          "output_type": "display_data",
          "data": {
            "image/png": "[encoded data removed]",
            "text/plain": [
              "<Figure size 432x288 with 1 Axes>"
            ]
          },
          "metadata": {
            "needs_background": "light"
          }
        }
      ]
    },
    {
      "cell_type": "code",
      "source": [],
      "metadata": {
        "id": "LWQVNeMSYpI4"
      },
      "execution_count": null,
      "outputs": []
    }
  ]
}